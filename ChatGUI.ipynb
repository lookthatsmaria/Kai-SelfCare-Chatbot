{
 "cells": [
  {
   "cell_type": "markdown",
   "metadata": {},
   "source": [
    "REQUIRMENTS"
   ]
  },
  {
   "cell_type": "code",
   "execution_count": null,
   "metadata": {},
   "outputs": [],
   "source": [
    "%pip install tflearn"
   ]
  },
  {
   "cell_type": "code",
   "execution_count": null,
   "metadata": {},
   "outputs": [],
   "source": [
    "%pip uninstall tensorflow"
   ]
  },
  {
   "cell_type": "code",
   "execution_count": null,
   "metadata": {},
   "outputs": [],
   "source": [
    "%pip install tensorflow"
   ]
  },
  {
   "cell_type": "code",
   "execution_count": null,
   "metadata": {},
   "outputs": [],
   "source": [
    "%pip install nltk"
   ]
  },
  {
   "cell_type": "code",
   "execution_count": null,
   "metadata": {},
   "outputs": [],
   "source": [
    "#nltk.download()"
   ]
  },
  {
   "attachments": {},
   "cell_type": "markdown",
   "metadata": {},
   "source": [
    "RULE BASED MODEL"
   ]
  },
  {
   "cell_type": "code",
   "execution_count": 1,
   "metadata": {},
   "outputs": [
    {
     "name": "stdout",
     "output_type": "stream",
     "text": [
      "{'hello': {'hello', 'howdy', 'hullo', 'hi', 'how do you do'}, 'bye': {'good bye', 'goodbye', 'sayonara', 'cheerio', 'good by', 'bye bye', 'auf wiedersehen', 'arrivederci', 'so long', 'adios', 'goodby', 'adieu', 'bye', 'good day', 'au revoir', 'pass'}, 'suicide': {'felo de se', 'suicide', 'self destruction', 'self annihilation'}, 'angry': {'angry', 'furious', 'raging', 'wild', 'tempestuous'}, 'anxious': {'anxious', 'uneasy', 'unquiet', 'nervous', 'queasy', 'dying'}, 'miserable': {'low down', 'abject', 'poor', 'execrable', 'hapless', 'piteous', 'miserable', 'scurvy', 'pitiable', 'scummy', 'measly', 'paltry', 'suffering', 'deplorable', 'pitiful', 'low', 'wretched', 'misfortunate', 'woeful', 'pathetic'}, 'ashamed': {'ashamed'}, 'depressed': {'low spirited', 'down in the mouth', 'get down', 'dispirited', 'lower', 'gloomy', 'depress', 'down', 'dispirit', 'depressed', 'downhearted', 'downcast', 'press down', 'dismay', 'deject', 'grim', 'demoralise', 'cast down', 'low', 'demoralize', 'blue'}, 'defeated': {'get the better of', 'discomfited', 'overcome', 'vote down', 'thwarted', 'defeat', 'defeated', 'frustrated', 'foiled', 'shoot down', 'disappointed', 'kill', 'vote out'}, 'frustratedgood': set(), 'happy': {'happy', 'felicitous', 'well chosen', 'glad'}}\n",
      "{'greetings': re.compile('.*\\\\bhello\\\\b.*|.*\\\\bhowdy\\\\b.*|.*\\\\bhullo\\\\b.*|.*\\\\bhi\\\\b.*|.*\\\\bhow do you do\\\\b.*'), 'suicide': re.compile('.*\\\\bfelo de se\\\\b.*|.*\\\\bsuicide\\\\b.*|.*\\\\bself destruction\\\\b.*|.*\\\\bself annihilation\\\\b.*')}\n"
     ]
    }
   ],
   "source": [
    "# Importing modules\n",
    "import re\n",
    "from nltk.corpus import wordnet\n",
    "\n",
    "# Building a list of Keywords\n",
    "list_words=[\n",
    "    'hello','bye',\n",
    "    'suicide',\n",
    "    'angry','anxious','miserable','ashamed','depressed','defeated','frustrated'\n",
    "    'good','happy',\n",
    "    ]\n",
    "list_syn={}\n",
    "for word in list_words:\n",
    "    synonyms=[]\n",
    "    for syn in wordnet.synsets(word):\n",
    "        for lem in syn.lemmas():\n",
    "            # Remove any special characters from synonym strings\n",
    "            lem_name = re.sub('[^a-zA-Z0-9 \\n\\.]', ' ', lem.name())\n",
    "            synonyms.append(lem_name)\n",
    "    list_syn[word]=set(synonyms)\n",
    "print (list_syn)\n",
    "\n",
    "# Building dictionary of Intents & Keywords\n",
    "keywords={}\n",
    "keywords_dict={}\n",
    "# Defining a new key in the keywords dictionary\n",
    "keywords['greetings']=[]\n",
    "# Populating the values in the keywords dictionary with synonyms of keywords formatted with RegEx metacharacters \n",
    "for synonym in list(list_syn['hello']):\n",
    "    keywords['greetings'].append('.*\\\\b'+synonym+'\\\\b.*')\n",
    "\n",
    "# Defining a new key in the keywords dictionary\n",
    "keywords['suicide']=[]\n",
    "# Populating the values in the keywords dictionary with synonyms of keywords formatted with RegEx metacharacters \n",
    "for synonym in list(list_syn['suicide']):\n",
    "    keywords['suicide'].append('.*\\\\b'+synonym+'\\\\b.*')\n",
    "for intent, keys in keywords.items():\n",
    "    # Joining the values in the keywords dictionary with the OR (|) operator updating them in keywords_dict dictionary\n",
    "    keywords_dict[intent]=re.compile('|'.join(keys))\n",
    "print (keywords_dict)\n",
    "\n",
    "# Building a dictionary of responses\n",
    "responses={\n",
    "    'greetings':'Hello! So, tell me how have you been feeling?',\n",
    "    'suicide':'If you are feeling vulnerable and need help, call 112 or 914 590 055 to seek help.',\n",
    "    'fallback':'I dont quite understand. Could you repeat that?',\n",
    "}\n",
    "\n",
    "def get_response(msg):\n",
    "    matched_intent = None \n",
    "    for intent,pattern in keywords_dict.items():\n",
    "        # Using the regular expression search function to look for keywords in user input\n",
    "        if re.search(pattern, msg): \n",
    "            # if a keyword matches, select the corresponding intent from the keywords_dict dictionary\n",
    "            matched_intent=intent  \n",
    "    # The fallback intent is selected by default\n",
    "    key='fallback' \n",
    "    if matched_intent in responses:\n",
    "        # If a keyword matches, the fallback intent is replaced by the matched intent as the key for the responses dictionary\n",
    "        key = matched_intent\n",
    "    # The chatbot prints the response that matches the selected intent\n",
    "    print (responses[key]) \n",
    "    return responses[key]\n",
    "\n"
   ]
  },
  {
   "cell_type": "markdown",
   "metadata": {},
   "source": [
    "CHAT GUI"
   ]
  },
  {
   "cell_type": "code",
   "execution_count": 2,
   "metadata": {},
   "outputs": [
    {
     "name": "stdout",
     "output_type": "stream",
     "text": [
      "Hello! So, tell me how have you been feeling?\n",
      "I dont quite understand. Could you repeat that?\n"
     ]
    }
   ],
   "source": [
    "from tkinter import *\n",
    "\n",
    "BG_GRAY = \"#ABB2B9\"\n",
    "BG_COLOR = \"#17202A\"\n",
    "TEXT_COLOR = \"#EAECEE\"\n",
    "\n",
    "FONT = \"Helvetica 14\"\n",
    "FONT_BOLD = \"Helvetica 13 bold\"\n",
    "\n",
    "bot_name = \"Kai\"\n",
    "\n",
    "class ChatGUI:\n",
    "    \n",
    "    def __init__(self):\n",
    "        self.window = Tk()\n",
    "        self._setup_main_window()\n",
    "        self._insert_initial_message(\"Hello!\\\n",
    "            \\nMy name is Kai and I'm going to give you support to your self-directed CBT Therapy session.\\\n",
    "            \\nSo, how have you been feeling?\")\n",
    "        \n",
    "    def run(self):\n",
    "        self.window.mainloop()\n",
    "        \n",
    "    def _setup_main_window(self):\n",
    "        self.window.title(\"Chat\")\n",
    "        self.window.resizable(width=False, height=False)\n",
    "        self.window.configure(width=470, height=550, bg=BG_COLOR)\n",
    "        \n",
    "        # head label\n",
    "        head_label = Label(self.window, bg=BG_COLOR, fg=TEXT_COLOR,\n",
    "                           text=\"Kai\", font=FONT_BOLD, pady=10)\n",
    "        head_label.place(relwidth=1)\n",
    "        \n",
    "        # tiny divider\n",
    "        line = Label(self.window, width=450, bg=BG_GRAY)\n",
    "        line.place(relwidth=1, rely=0.07, relheight=0.012)\n",
    "        \n",
    "        # text widget\n",
    "        self.text_widget = Text(self.window, width=20, height=2, bg=BG_COLOR, fg=TEXT_COLOR,\n",
    "                                font=FONT, padx=5, pady=5)\n",
    "        self.text_widget.place(relheight=0.745, relwidth=1, rely=0.08)\n",
    "        self.text_widget.configure(cursor=\"arrow\", state=DISABLED)\n",
    "        \n",
    "        # scroll bar\n",
    "        scrollbar = Scrollbar(self.text_widget)\n",
    "        scrollbar.place(relheight=1, relx=0.974)\n",
    "        scrollbar.configure(command=self.text_widget.yview)\n",
    "        \n",
    "        # bottom label\n",
    "        bottom_label = Label(self.window, bg=BG_GRAY, height=80)\n",
    "        bottom_label.place(relwidth=1, rely=0.825)\n",
    "        \n",
    "        # message entry box\n",
    "        self.msg_entry = Entry(bottom_label, bg=\"#2C3E50\", fg=TEXT_COLOR, font=FONT)\n",
    "        self.msg_entry.place(relwidth=0.74, relheight=0.06, rely=0.008, relx=0.011)\n",
    "        self.msg_entry.focus()\n",
    "        self.msg_entry.bind(\"<Return>\", self._on_enter_pressed)\n",
    "        \n",
    "        # send button\n",
    "        send_button = Button(bottom_label, text=\"Send\", font=FONT_BOLD, width=20, bg=BG_GRAY,\n",
    "                             command=lambda: self._on_enter_pressed(None))\n",
    "        send_button.place(relx=0.77, rely=0.008, relheight=0.06, relwidth=0.22)\n",
    "    \n",
    "    def _on_enter_pressed(self, event):\n",
    "        msg = self.msg_entry.get()\n",
    "        self._insert_message(msg, \"You\")\n",
    "       \n",
    "    def _insert_message(self, msg, sender):\n",
    "        if not msg:\n",
    "            return\n",
    "        \n",
    "        self.msg_entry.delete(0, END)\n",
    "        msg1 = f\"{sender}: {msg}\\n\\n\"\n",
    "        self.text_widget.configure(state=NORMAL)\n",
    "        self.text_widget.insert(END, msg1)\n",
    "        self.text_widget.configure(state=DISABLED)\n",
    "        \n",
    "        msg2 = f\"{bot_name}: {get_response(msg)}\\n\\n\"\n",
    "        self.text_widget.configure(state=NORMAL)\n",
    "        self.text_widget.insert(END, msg2)\n",
    "        self.text_widget.configure(state=DISABLED)\n",
    "        \n",
    "        self.text_widget.see(END)\n",
    "          \n",
    "    def _insert_initial_message(self, msg):\n",
    "        self.msg_entry.delete(0, END)\n",
    "        msg1 = f\"{bot_name}: {msg}\\n\\n\"\n",
    "        self.text_widget.configure(state=NORMAL)\n",
    "        self.text_widget.insert(END, msg1)\n",
    "        self.text_widget.configure(state=DISABLED)\n",
    "     \n",
    "if __name__ == \"__main__\":\n",
    "    app = ChatGUI()\n",
    "    app.run()"
   ]
  }
 ],
 "metadata": {
  "kernelspec": {
   "display_name": "Python 3.10.x 64-bit (microsoft store)",
   "language": "python",
   "name": "python3"
  },
  "language_info": {
   "codemirror_mode": {
    "name": "ipython",
    "version": 3
   },
   "file_extension": ".py",
   "mimetype": "text/x-python",
   "name": "python",
   "nbconvert_exporter": "python",
   "pygments_lexer": "ipython3",
   "version": "3.10.9"
  },
  "orig_nbformat": 4,
  "vscode": {
   "interpreter": {
    "hash": "f8ca15d83b6fb72cece3edcf60f6aa40d2cbdeb5c60e0f188ff8c7c65828fd00"
   }
  }
 },
 "nbformat": 4,
 "nbformat_minor": 2
}
