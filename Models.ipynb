{
 "cells": [
  {
   "cell_type": "code",
   "execution_count": 2,
   "metadata": {},
   "outputs": [],
   "source": [
    "# Importing Libraries\n",
    "import json\n",
    "import string\n",
    "import random \n",
    "import pickle\n",
    "import pandas as pd\n",
    "from sklearn.model_selection import train_test_split\n",
    "from sklearn.pipeline import make_pipeline\n",
    "from sklearn.metrics import confusion_matrix, accuracy_score, roc_curve, roc_auc_score\n",
    "from sklearn.feature_extraction.text import TfidfVectorizer\n",
    "from sklearn.naive_bayes import MultinomialNB\n",
    "from imblearn.pipeline import Pipeline, make_pipeline\n",
    "from imblearn.over_sampling import SMOTE\n",
    "from sklearn.feature_extraction.text import CountVectorizer\n",
    "from sklearn.feature_extraction.text import TfidfTransformer\n",
    "from sklearn.metrics import confusion_matrix, ConfusionMatrixDisplay\n",
    "from sklearn.metrics import classification_report, confusion_matrix, accuracy_score\n",
    "from sklearn.model_selection import GridSearchCV\n",
    "from sklearn.linear_model import LogisticRegression\n",
    "from sklearn import svm \n",
    "from xgboost import XGBClassifier\n",
    "from sklearn.ensemble import AdaBoostClassifier\n",
    "from sklearn.ensemble import RandomForestClassifier\n",
    "from lightgbm import LGBMClassifier\n",
    "from sklearn.neighbors import KNeighborsClassifier\n",
    "from sklearn.ensemble import VotingClassifier\n",
    "from nltk.classify.scikitlearn import SklearnClassifier\n",
    "from sklearn import svm\n",
    "from sklearn.svm import SVC\n",
    "\n",
    "# Loading Dataset \n",
    "df = pd.read_csv('Dataset_Cognitive_Distortions.tsv', sep='\\t', header=0)\n",
    "#df.shape\n",
    "\n",
    "# Divide data between training and test data\n",
    "X = df['Phrase']\n",
    "y = df['Cognitive Distortion']\n",
    "X_train, X_test, y_train, y_test = train_test_split(X, y, random_state=0, train_size = .8)\n"
   ]
  },
  {
   "attachments": {},
   "cell_type": "markdown",
   "metadata": {},
   "source": [
    "MULTINOMIAL NAIVE BAYES"
   ]
  },
  {
   "cell_type": "code",
   "execution_count": null,
   "metadata": {},
   "outputs": [],
   "source": [
    "textclassifier = Pipeline([\n",
    "  ('vect', CountVectorizer()),\n",
    "   ('tfidf', TfidfTransformer()),\n",
    "   ('smote', SMOTE(random_state=0)),\n",
    "   ('mnb', MultinomialNB())\n",
    "])\n",
    "\n",
    "params = {'smote__k_neighbors': [2,3,4,5,6,7,8,9,10, ],\n",
    "          'mnb__alpha': [0.01, 0.1, 0.3, 0.5, 1.0]}\n",
    "          \n",
    "multinomial_nb_grid = GridSearchCV(estimator=textclassifier, param_grid=params, n_jobs=10, cv=10, verbose=5)\n",
    "multinomial_nb_grid.fit(X_train, y_train)\n",
    "\n",
    "\n",
    "print('Train Accuracy : %.3f'%multinomial_nb_grid.best_estimator_.score(X_train, y_train))\n",
    "print('Test Accuracy : %.3f'%multinomial_nb_grid.best_estimator_.score(X_test, y_test))\n",
    "print('Best Accuracy Through Grid Search : %.3f'%multinomial_nb_grid.best_score_)\n",
    "print('Best Parameters : ',multinomial_nb_grid.best_params_)\n",
    "\n",
    "y_pred = multinomial_nb_grid.predict(X_test)\n",
    "\n",
    "print(confusion_matrix(y_test,y_pred))\n",
    "print(classification_report(y_test,y_pred))\n",
    "print(accuracy_score(y_test, y_pred))"
   ]
  },
  {
   "attachments": {},
   "cell_type": "markdown",
   "metadata": {},
   "source": [
    "MULTINOMIAL LOGISTIC REGRESSION"
   ]
  },
  {
   "cell_type": "code",
   "execution_count": null,
   "metadata": {},
   "outputs": [],
   "source": [
    "textclassifier =Pipeline([\n",
    "  ('vect', CountVectorizer()),\n",
    "   ('tfidf', TfidfTransformer()),\n",
    "   ('smote', SMOTE(random_state=0)),\n",
    "   ('mlg', LogisticRegression(multi_class='multinomial', random_state=0, warm_start = True,  l1_ratio = 0.5))\n",
    "])\n",
    "\n",
    "params = {'smote__k_neighbors': [2,3,4,5,6,7,8,9,10, ],\n",
    "          'mlg__penalty': ['l1', 'l2', 'elasticnet', 'none' ],\n",
    "          'mlg__C': [0.01, 0.1, 0.3, 0.5, 1.0,],\n",
    "          'mlg__solver': ['lbfgs', 'newton-cg'\n",
    "                          , 'sag', 'saga'],\n",
    "          }\n",
    "          \n",
    "multinomial_lg_grid = GridSearchCV(estimator=textclassifier, param_grid=params, n_jobs=10, cv=10, verbose=5)\n",
    "multinomial_lg_grid.fit(X_train, y_train)\n",
    "\n",
    "\n",
    "print('Train Accuracy : %.3f'%multinomial_lg_grid.best_estimator_.score(X_train, y_train))\n",
    "print('Test Accuracy : %.3f'%multinomial_lg_grid.best_estimator_.score(X_test, y_test))\n",
    "print('Best Accuracy Through Grid Search : %.3f'%multinomial_lg_grid.best_score_)\n",
    "print('Best Parameters : ',multinomial_lg_grid.best_params_)\n",
    "\n",
    "y_pred = multinomial_lg_grid.predict(X_test)\n",
    "\n",
    "print(confusion_matrix(y_test,y_pred))\n",
    "print(classification_report(y_test,y_pred))\n",
    "print(accuracy_score(y_test, y_pred))"
   ]
  },
  {
   "attachments": {},
   "cell_type": "markdown",
   "metadata": {},
   "source": [
    "SVM"
   ]
  },
  {
   "cell_type": "code",
   "execution_count": null,
   "metadata": {},
   "outputs": [],
   "source": [
    "textclassifier =Pipeline([\n",
    "  ('vect', CountVectorizer()),\n",
    "   ('tfidf', TfidfTransformer()),\n",
    "   ('smote', SMOTE(random_state=0)),\n",
    "   ('svm', svm.SVC(probability = True))\n",
    "])\n",
    "\n",
    "params = {'smote__k_neighbors': [2,3,4,5,6,7,8,9,10,],\n",
    "        'svm__decision_function_shape': ['ovo', 'ovr'], \n",
    "        'svm__C': [0.01, 0.1, 0.3, 0.5, 1.0,],\n",
    "}\n",
    "\n",
    "svm_grid = GridSearchCV(estimator=textclassifier, param_grid=params, n_jobs=60, cv=10, verbose=5)\n",
    "svm_grid.fit(X_train, y_train)\n",
    "\n",
    "\n",
    "print('Train Accuracy : %.3f'%svm_grid.best_estimator_.score(X_train, y_train))\n",
    "print('Test Accuracy : %.3f'%svm_grid.best_estimator_.score(X_test, y_test))\n",
    "print('Best Accuracy Through Grid Search : %.3f'%svm_grid.best_score_)\n",
    "print('Best Parameters : ',svm_grid.best_params_)\n",
    "\n",
    "y_pred = svm_grid.predict(X_test)\n",
    "\n",
    "print(confusion_matrix(y_test,y_pred))\n",
    "print(classification_report(y_test,y_pred))\n",
    "print(accuracy_score(y_test, y_pred))"
   ]
  },
  {
   "attachments": {},
   "cell_type": "markdown",
   "metadata": {},
   "source": [
    "RANDOM FORESTS"
   ]
  },
  {
   "cell_type": "code",
   "execution_count": null,
   "metadata": {},
   "outputs": [],
   "source": [
    "textclassifier =Pipeline([\n",
    "  ('vect', CountVectorizer()),\n",
    "   ('tfidf', TfidfTransformer()),\n",
    "   ('smote', SMOTE(random_state=0)),\n",
    "   ('rf', RandomForestClassifier(random_state=0))\n",
    "])\n",
    "\n",
    "params = {'smote__k_neighbors': [2,3,4,5,6,7,8,9,10, ]}\n",
    "          \n",
    "\n",
    "rf_grid = GridSearchCV(estimator=textclassifier, param_grid=params, n_jobs=10, cv=10, verbose=5)\n",
    "rf_grid.fit(X_train, y_train)\n",
    "\n",
    "\n",
    "print('Train Accuracy : %.3f'%rf_grid.best_estimator_.score(X_train, y_train))\n",
    "print('Test Accuracy : %.3f'%rf_grid.best_estimator_.score(X_test, y_test))\n",
    "print('Best Accuracy Through Grid Search : %.3f'%rf_grid.best_score_)\n",
    "print('Best Parameters : ',rf_grid.best_params_)\n",
    "\n",
    "y_pred = rf_grid.predict(X_test)\n",
    "\n",
    "print(confusion_matrix(y_test,y_pred))\n",
    "print(classification_report(y_test,y_pred))\n",
    "print(accuracy_score(y_test, y_pred))"
   ]
  },
  {
   "attachments": {},
   "cell_type": "markdown",
   "metadata": {},
   "source": [
    "SAVING BEST MODEL"
   ]
  },
  {
   "cell_type": "code",
   "execution_count": null,
   "metadata": {},
   "outputs": [],
   "source": [
    "pickle.dump(textclassifier, open('cognitive_distortion_detector_model.pkl', 'wb'))"
   ]
  },
  {
   "attachments": {},
   "cell_type": "markdown",
   "metadata": {},
   "source": [
    "KNN"
   ]
  },
  {
   "cell_type": "code",
   "execution_count": null,
   "metadata": {},
   "outputs": [],
   "source": [
    "textclassifier =Pipeline([\n",
    "  ('vect', CountVectorizer()),\n",
    "   ('tfidf', TfidfTransformer()),\n",
    "   ('smote', SMOTE(random_state=0)),\n",
    "   ('knn', KNeighborsClassifier())\n",
    "])\n",
    "\n",
    "params = {'knn__n_neighbors': [5,6,7,8,9,10, ],\n",
    "          'knn__weights': ['uniform', 'distance'],\n",
    "          'smote__k_neighbors': [2,3,4,5,6,7,8,9,10, ],\n",
    "          'knn__p': [1, 2, 3],\n",
    "          }\n",
    "          \n",
    "knn_grid = GridSearchCV(estimator=textclassifier, param_grid=params, n_jobs=10, cv=10, verbose=5)\n",
    "knn_grid.fit(X_train, y_train)\n",
    "\n",
    "\n",
    "print('Train Accuracy : %.3f'%knn_grid.best_estimator_.score(X_train, y_train))\n",
    "print('Test Accuracy : %.3f'%knn_grid.best_estimator_.score(X_test, y_test))\n",
    "print('Best Accuracy Through Grid Search : %.3f'%knn_grid.best_score_)\n",
    "print('Best Parameters : ',knn_grid.best_params_)\n",
    "\n",
    "y_pred = knn_grid.predict(X_test)\n",
    "\n",
    "print(confusion_matrix(y_test,y_pred))\n",
    "print(classification_report(y_test,y_pred))\n",
    "print(accuracy_score(y_test, y_pred))"
   ]
  }
 ],
 "metadata": {
  "kernelspec": {
   "display_name": ".venv",
   "language": "python",
   "name": "python3"
  },
  "language_info": {
   "codemirror_mode": {
    "name": "ipython",
    "version": 3
   },
   "file_extension": ".py",
   "mimetype": "text/x-python",
   "name": "python",
   "nbconvert_exporter": "python",
   "pygments_lexer": "ipython3",
   "version": "3.10.9"
  },
  "orig_nbformat": 4,
  "vscode": {
   "interpreter": {
    "hash": "297e491db09c8e1cad3dcb7da858ce4188d439da100fd9118e665979685ce609"
   }
  }
 },
 "nbformat": 4,
 "nbformat_minor": 2
}
