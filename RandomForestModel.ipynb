{
 "cells": [
  {
   "attachments": {},
   "cell_type": "markdown",
   "metadata": {},
   "source": [
    "REQUIRMENTS"
   ]
  },
  {
   "cell_type": "code",
   "execution_count": null,
   "metadata": {},
   "outputs": [],
   "source": [
    "%pip install scikit-learn\n",
    "%pip install pandas\n",
    "%pip install imbalanced-learn"
   ]
  },
  {
   "cell_type": "code",
   "execution_count": 1,
   "metadata": {},
   "outputs": [
    {
     "name": "stdout",
     "output_type": "stream",
     "text": [
      "[[2 0 0 1 0 0 0 0 0 0 0 0 0 0 0 0]\n",
      " [0 5 0 1 0 0 0 0 0 0 0 0 0 1 0 0]\n",
      " [0 0 3 1 0 0 0 0 1 0 0 0 0 0 1 0]\n",
      " [0 2 0 6 1 0 0 0 0 0 1 2 0 0 0 1]\n",
      " [0 0 0 0 8 0 0 0 0 0 0 0 3 0 0 0]\n",
      " [0 0 0 0 0 2 0 0 0 0 0 0 0 0 0 0]\n",
      " [0 0 0 0 0 0 1 0 0 1 1 1 1 0 0 1]\n",
      " [0 0 0 0 0 1 0 5 0 0 0 3 1 0 0 0]\n",
      " [0 0 0 0 0 0 0 0 9 0 0 0 0 0 0 0]\n",
      " [0 0 0 0 0 0 0 2 0 4 0 0 0 0 0 0]\n",
      " [0 0 0 0 0 0 0 0 0 0 9 0 0 0 0 0]\n",
      " [0 0 1 0 0 0 0 0 0 0 0 8 1 0 0 1]\n",
      " [0 0 0 0 0 0 0 0 0 0 1 0 5 0 1 1]\n",
      " [0 0 0 0 0 0 0 0 0 0 0 0 0 5 0 0]\n",
      " [0 0 0 1 0 0 0 1 0 0 0 0 0 0 3 1]\n",
      " [0 0 0 0 0 0 0 0 0 0 0 0 0 0 0 7]]\n",
      "                         precision    recall  f1-score   support\n",
      "\n",
      "     Always Being Right       1.00      0.67      0.80         3\n",
      "                Blaming       0.71      0.71      0.71         7\n",
      "        Catastrophizing       0.75      0.50      0.60         6\n",
      "      Control Fallacies       0.60      0.46      0.52        13\n",
      "    Emotional Reasoning       0.89      0.73      0.80        11\n",
      "      Fallacy Of Change       0.67      1.00      0.80         2\n",
      "    Fallacy Of Fairness       1.00      0.17      0.29         6\n",
      "              Filtering       0.62      0.50      0.56        10\n",
      "       Global Labelling       0.90      1.00      0.95         9\n",
      "Heaven's Reward Fallacy       0.80      0.67      0.73         6\n",
      " Jumping to Conclusions       0.75      1.00      0.86         9\n",
      "                     No       0.57      0.73      0.64        11\n",
      "     Overgeneralization       0.45      0.62      0.53         8\n",
      "        Personalization       0.83      1.00      0.91         5\n",
      "              Polarized       0.60      0.50      0.55         6\n",
      "                Shoulds       0.58      1.00      0.74         7\n",
      "\n",
      "               accuracy                           0.69       119\n",
      "              macro avg       0.73      0.70      0.69       119\n",
      "           weighted avg       0.71      0.69      0.67       119\n",
      "\n",
      "0.6890756302521008\n"
     ]
    }
   ],
   "source": [
    "from sklearn.model_selection import train_test_split\n",
    "from sklearn.pipeline import make_pipeline\n",
    "from sklearn.metrics import confusion_matrix, accuracy_score\n",
    "from sklearn.feature_extraction.text import TfidfVectorizer\n",
    "from imblearn.pipeline import Pipeline, make_pipeline\n",
    "from imblearn.over_sampling import SMOTE\n",
    "from sklearn.feature_extraction.text import CountVectorizer\n",
    "from sklearn.feature_extraction.text import TfidfTransformer\n",
    "from sklearn.metrics import classification_report, confusion_matrix, accuracy_score\n",
    "from sklearn.model_selection import GridSearchCV\n",
    "from sklearn.ensemble import RandomForestClassifier\n",
    "import pandas as pd\n",
    "\n",
    "# Loading The Dataset \n",
    "df = pd.read_csv('./Dataset_Cognitive_Distortions.tsv', sep='\\t', header=0)\n",
    "#df = df.drop(df.columns[[2, 3, 4]], axis=1)\n",
    "\n",
    "# Divide data between training and test data\n",
    "X = df['Phrase']\n",
    "y = df['Cognitive Distortion']\n",
    "X_train, X_test, y_train, y_test = train_test_split(X, y, random_state=0, train_size = .8)\n",
    "\n",
    "textclassifier = Pipeline([\n",
    "  ('vect', CountVectorizer()),\n",
    "   ('tfidf', TfidfTransformer()),\n",
    "   ('smote', SMOTE(random_state=0)),\n",
    "   ('rf',  RandomForestClassifier(random_state=0))\n",
    "])\n",
    "\n",
    "textclassifier.fit(X_train, y_train)\n",
    "\n",
    "y_pred = textclassifier.predict(X_test)\n",
    "\n",
    "from sklearn.metrics import classification_report, confusion_matrix, accuracy_score\n",
    "\n",
    "print(confusion_matrix(y_test,y_pred))\n",
    "print(classification_report(y_test,y_pred))\n",
    "print(accuracy_score(y_test, y_pred))"
   ]
  },
  {
   "attachments": {},
   "cell_type": "markdown",
   "metadata": {},
   "source": [
    "SAVING MODEL"
   ]
  },
  {
   "cell_type": "code",
   "execution_count": 3,
   "metadata": {},
   "outputs": [],
   "source": [
    "import pickle\n",
    "\n",
    "pickle.dump(textclassifier, open('cognitive_distortion_detector_model.pkl', 'wb'))"
   ]
  }
 ],
 "metadata": {
  "kernelspec": {
   "display_name": ".venv",
   "language": "python",
   "name": "python3"
  },
  "language_info": {
   "codemirror_mode": {
    "name": "ipython",
    "version": 3
   },
   "file_extension": ".py",
   "mimetype": "text/x-python",
   "name": "python",
   "nbconvert_exporter": "python",
   "pygments_lexer": "ipython3",
   "version": "3.10.9 (tags/v3.10.9:1dd9be6, Dec  6 2022, 20:01:21) [MSC v.1934 64 bit (AMD64)]"
  },
  "orig_nbformat": 4,
  "vscode": {
   "interpreter": {
    "hash": "297e491db09c8e1cad3dcb7da858ce4188d439da100fd9118e665979685ce609"
   }
  }
 },
 "nbformat": 4,
 "nbformat_minor": 2
}
