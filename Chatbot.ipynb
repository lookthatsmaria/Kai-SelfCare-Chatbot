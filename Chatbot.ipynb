{
 "cells": [
  {
   "cell_type": "markdown",
   "metadata": {},
   "source": [
    "REQUIRMENTS"
   ]
  },
  {
   "cell_type": "code",
   "execution_count": null,
   "metadata": {},
   "outputs": [],
   "source": [
    "%pip install tflearn"
   ]
  },
  {
   "cell_type": "code",
   "execution_count": null,
   "metadata": {},
   "outputs": [],
   "source": [
    "%pip uninstall tensorflow"
   ]
  },
  {
   "cell_type": "code",
   "execution_count": null,
   "metadata": {},
   "outputs": [],
   "source": [
    "%pip install tensorflow"
   ]
  },
  {
   "cell_type": "code",
   "execution_count": null,
   "metadata": {},
   "outputs": [],
   "source": [
    "%pip install nltk"
   ]
  },
  {
   "cell_type": "code",
   "execution_count": null,
   "metadata": {},
   "outputs": [],
   "source": [
    "#nltk.download()"
   ]
  },
  {
   "cell_type": "code",
   "execution_count": 26,
   "metadata": {},
   "outputs": [
    {
     "data": {
      "text/plain": [
       "['it', 'was', 'annoying']"
      ]
     },
     "execution_count": 26,
     "metadata": {},
     "output_type": "execute_result"
    }
   ],
   "source": [
    "import itertools\n",
    "ab = itertools.chain(['it'], ['was'], ['annoying'])\n",
    "list(ab)\n"
   ]
  },
  {
   "attachments": {},
   "cell_type": "markdown",
   "metadata": {},
   "source": [
    "RULE BASED MODEL"
   ]
  },
  {
   "cell_type": "code",
   "execution_count": 2,
   "metadata": {},
   "outputs": [
    {
     "name": "stdout",
     "output_type": "stream",
     "text": [
      "{'hello': {'how do you do', 'hi', 'hello', 'hullo', 'howdy'}, 'bye': {'so long', 'cheerio', 'pass', 'adieu', 'adios', 'bye', 'arrivederci', 'au revoir', 'good bye', 'goodbye', 'good day', 'sayonara', 'goodby', 'auf wiedersehen', 'bye bye', 'good by'}, 'suicide': {'self annihilation', 'self destruction', 'felo de se', 'suicide'}, 'kill': {'killing', 'obliterate', 'belt down', 'vote out', 'toss off', 'defeat', 'vote down', 'drink down', 'wipe out', 'pour down', 'kill', 'putting to death', 'pop', 'stamp out', 'bolt down', 'shoot down', 'down'}, 'die': {'pall', 'drop dead', 'cash in one s chips', 'become flat', 'go bad', 'buy the farm', 'snuff it', 'choke', 'decease', 'die', 'expire', 'pass away', 'give up the ghost', 'break', 'conk', 'croak', 'pop off', 'perish', 'give way', 'die out', 'break down', 'pass', 'dice', 'give out', 'kick the bucket', 'exit', 'go', 'fail', 'conk out'}, 'want': {'lack', 'want', 'need', 'neediness', 'deprivation', 'desire', 'require', 'privation', 'wishing', 'wish', 'deficiency'}, 'feel': {'feeling', 'experience', 'flavor', 'look', 'palpate', 'find', 'tone', 'feel', 'smell', 'sense', 'tactile property', 'spirit', 'finger', 'flavour'}, 'bad': {'badness', 'spoiled', 'sorry', 'high risk', 'tough', 'badly', 'unsound', 'risky', 'uncollectible', 'forged', 'speculative', 'big', 'spoilt', 'regretful', 'unfit', 'defective', 'bad'}, 'sad': {'sorry', 'lamentable', 'pitiful', 'sad', 'deplorable', 'distressing'}, 'angry': {'furious', 'tempestuous', 'raging', 'angry', 'wild'}, 'anxious': {'dying', 'uneasy', 'unquiet', 'queasy', 'nervous', 'anxious'}, 'miserable': {'woeful', 'low', 'suffering', 'pathetic', 'miserable', 'pitiable', 'scurvy', 'wretched', 'piteous', 'pitiful', 'measly', 'abject', 'paltry', 'deplorable', 'scummy', 'poor', 'execrable', 'low down', 'misfortunate', 'hapless'}, 'ashamed': {'ashamed'}, 'depressed': {'deject', 'downhearted', 'low', 'cast down', 'demoralize', 'press down', 'depressed', 'grim', 'gloomy', 'dispirit', 'down in the mouth', 'dispirited', 'lower', 'low spirited', 'dismay', 'depress', 'get down', 'blue', 'demoralise', 'downcast', 'down'}, 'defeated': {'frustrated', 'overcome', 'vote out', 'disappointed', 'defeat', 'foiled', 'thwarted', 'vote down', 'get the better of', 'discomfited', 'shoot down', 'kill', 'defeated'}, 'frustrated': {'scotch', 'thwarted', 'foiled', 'crucify', 'rag', 'bilk', 'defeated', 'frustrate', 'disappointed', 'bedevil', 'dun', 'frustrated', 'queer', 'thwart', 'cross', 'foil', 'spoil', 'baffle', 'torment', 'discomfited'}, 'good': {'safe', 'adept', 'unspoilt', 'dependable', 'skilful', 'goodness', 'in force', 'skillful', 'ripe', 'honorable', 'respectable', 'practiced', 'secure', 'dear', 'salutary', 'sound', 'proficient', 'upright', 'just', 'thoroughly', 'beneficial', 'full', 'undecomposed', 'unspoiled', 'commodity', 'well', 'right', 'estimable', 'soundly', 'good', 'expert', 'in effect', 'serious', 'near', 'effective', 'honest', 'trade good'}, 'happy': {'glad', 'happy', 'felicitous', 'well chosen'}, 'amazing': {'amaze', 'astonish', 'beat', 'astound', 'perplex', 'pose', 'awful', 'stick', 'nonplus', 'awesome', 'awe inspiring', 'amazing', 'bewilder', 'vex', 'dumbfound', 'puzzle', 'get', 'stupefy', 'gravel', 'astonishing', 'mystify', 'baffle', 'flummox', 'awing'}, 'fine': {'exquisitely', 'all right', 'okay', 'OK', 'finely', 'delicately', 'amercement', 'fine', 'alright', 'hunky dory', 'very well', 'mulct', 'o.k.', 'ok', 'ticket'}, 'cool': {'sang froid', 'chill', 'cool', 'cool off', 'coolheaded', 'cool down', 'aplomb', 'poise', 'nerveless', 'assuredness'}}\n",
      "{'greetings': re.compile('.*\\\\bhow do you do\\\\b.*|.*\\\\bhi\\\\b.*|.*\\\\bhello\\\\b.*|.*\\\\bhullo\\\\b.*|.*\\\\bhowdy\\\\b.*'), 'goodbyes': re.compile('.*\\\\bso long\\\\b.*|.*\\\\bcheerio\\\\b.*|.*\\\\bpass\\\\b.*|.*\\\\badieu\\\\b.*|.*\\\\badios\\\\b.*|.*\\\\bbye\\\\b.*|.*\\\\barrivederci\\\\b.*|.*\\\\bau revoir\\\\b.*|.*\\\\bgood bye\\\\b.*|.*\\\\bgoodbye\\\\b.*|.*\\\\bgood day\\\\b.*|.*\\\\), 'suicide': re.compile('.*\\\\bself annihilation\\\\b.*|.*\\\\bself destruction\\\\b.*|.*\\\\bfelo de se\\\\b.*|.*\\\\bsuicide\\\\b.*|.*\\\\bkilling\\\\b.*|.*\\\\bobliterate\\\\b.*|.*\\\\bbelt down\\\\b.*|.*\\\\bvote out\\\\b.*|.*\\\\btoss off\\\\b.*|.*\\\\bdef), 'badfeeling': re.compile('.*\\\\bfurious\\\\b.*|.*\\\\btempestuous\\\\b.*|.*\\\\braging\\\\b.*|.*\\\\bangry\\\\b.*|.*\\\\bwild\\\\b.*|.*\\\\bdying\\\\b.*|.*\\\\buneasy\\\\b.*|.*\\\\bunquiet\\\\b.*|.*\\\\bqueasy\\\\b.*|.*\\\\bnervous\\\\b.*|.*\\\\banxious\\\\b.*|.*\\\\bwo), 'goodfeeling': re.compile('.*\\\\bsafe\\\\b.*|.*\\\\badept\\\\b.*|.*\\\\bunspoilt\\\\b.*|.*\\\\bdependable\\\\b.*|.*\\\\bskilful\\\\b.*|.*\\\\bgoodness\\\\b.*|.*\\\\bin force\\\\b.*|.*\\\\bskillful\\\\b.*|.*\\\\bripe\\\\b.*|.*\\\\bhonorable\\\\b.*|.*\\\\brespectable\\\\)}\n"
     ]
    }
   ],
   "source": [
    "# Importing modules\n",
    "import re\n",
    "from nltk.corpus import wordnet\n",
    "\n",
    "import itertools\n",
    "\n",
    "# Building a list of Keywords\n",
    "list_words=[\n",
    "    'hello','bye',\n",
    "    'suicide','kill','die','want','feel','bad','sad',\n",
    "    'angry','anxious','miserable','ashamed','depressed','defeated','frustrated',\n",
    "    'good','happy','amazing','fine','cool',\n",
    "    ]\n",
    "list_syn={}\n",
    "for word in list_words:\n",
    "    synonyms=[]\n",
    "    for syn in wordnet.synsets(word):\n",
    "        for lem in syn.lemmas():\n",
    "            # Remove any special characters from synonym strings\n",
    "            lem_name = re.sub('[^a-zA-Z0-9 \\n\\.]', ' ', lem.name())\n",
    "            synonyms.append(lem_name)\n",
    "    list_syn[word]=set(synonyms)\n",
    "print (list_syn)\n",
    "\n",
    "# Building dictionary of Intents & Keywords\n",
    "keywords={}\n",
    "keywords_dict={}\n",
    "# Defining a new key in the keywords dictionary\n",
    "keywords['greetings']=[]\n",
    "# Populating the values in the keywords dictionary with synonyms of keywords formatted with RegEx metacharacters \n",
    "for synonym in list(list_syn['hello']):\n",
    "    keywords['greetings'].append('.*\\\\b'+synonym+'\\\\b.*')\n",
    "\n",
    "# Defining a new key in the keywords dictionary\n",
    "keywords['goodbyes']=[]\n",
    "# Populating the values in the keywords dictionary with synonyms of keywords formatted with RegEx metacharacters \n",
    "for synonym in list(list_syn['bye']):\n",
    "    keywords['goodbyes'].append('.*\\\\b'+synonym+'\\\\b.*')\n",
    "\n",
    "# Defining a new key in the keywords dictionary\n",
    "keywords['suicide']=[]\n",
    "# Creating a list of synonyms with multiple related words\n",
    "new_list_syn = itertools.chain(list_syn['suicide'], list_syn['kill'], list_syn['die'], list_syn['want'], list_syn['feel'])\n",
    "# Populating the values in the keywords dictionary with synonyms of keywords formatted with RegEx metacharacters \n",
    "for synonym in list(new_list_syn):\n",
    "    keywords['suicide'].append('.*\\\\b'+synonym+'\\\\b.*')\n",
    "\n",
    "# Defining a new key in the keywords dictionary\n",
    "keywords['badfeeling']=[]\n",
    "# Creating a list of synonyms with multiple related words\n",
    "new_list_syn = itertools.chain(list_syn['angry'], list_syn['anxious'], list_syn['miserable'], list_syn['ashamed'], list_syn['depressed'], \n",
    "                                list_syn['defeated'], list_syn['frustrated'], list_syn['feel'], list_syn['bad'], list_syn['sad'])\n",
    "# Populating the values in the keywords dictionary with synonyms of keywords formatted with RegEx metacharacters \n",
    "for synonym in list(new_list_syn):\n",
    "    keywords['badfeeling'].append('.*\\\\b'+synonym+'\\\\b.*')\n",
    "\n",
    "# Defining a new key in the keywords dictionary\n",
    "keywords['goodfeeling']=[]\n",
    "# Creating a list of synonyms with multiple related words\n",
    "new_list_syn = itertools.chain(list_syn['good'], list_syn['happy'], list_syn['feel'])\n",
    "# Populating the values in the keywords dictionary with synonyms of keywords formatted with RegEx metacharacters \n",
    "for synonym in list(new_list_syn):\n",
    "    keywords['goodfeeling'].append('.*\\\\b'+synonym+'\\\\b.*')\n",
    "\n",
    "for intent, keys in keywords.items():\n",
    "    # Joining the values in the keywords dictionary with the OR (|) operator updating them in keywords_dict dictionary\n",
    "    keywords_dict[intent]=re.compile('|'.join(keys))\n",
    "print (keywords_dict)\n",
    "\n",
    "# Building a dictionary of responses\n",
    "responses={\n",
    "    'greetings':'Hello! So, tell me how have you been feeling?',\n",
    "    'suicide':'If you are feeling vulnerable and need help, Please call 112 or 914 590 055 to seek help.',\n",
    "    'fallback':'I dont quite understand. Could you repeat that?',\n",
    "    'goodbyes':'Bye. Hope I\\'ve been helpful.',\n",
    "    'badfeeling':'I’m sorry that you feel this way. Did anything in particular trigger this feeling?\\\n",
    "                  \\nPlease provide a detailed explanation of the situation.',\n",
    "    'goodfeeling':'I\\'m glad that you feel this way',\n",
    "}\n",
    "\n",
    "def get_response(msg):\n",
    "    matched_intent = None \n",
    "    for intent,pattern in keywords_dict.items():\n",
    "        # Using the regular expression search function to look for keywords in user input\n",
    "        if re.search(pattern, msg): \n",
    "            # if a keyword matches, select the corresponding intent from the keywords_dict dictionary\n",
    "            matched_intent=intent  \n",
    "    # The fallback intent is selected by default\n",
    "    key='fallback' \n",
    "    if matched_intent in responses:\n",
    "        # If a keyword matches, the fallback intent is replaced by the matched intent as the key for the responses dictionary\n",
    "        key = matched_intent\n",
    "    # The chatbot prints the response that matches the selected intent\n",
    "    print (responses[key]) \n",
    "    return responses[key]\n",
    "\n"
   ]
  },
  {
   "cell_type": "markdown",
   "metadata": {},
   "source": [
    "CHAT GUI"
   ]
  },
  {
   "cell_type": "code",
   "execution_count": 3,
   "metadata": {},
   "outputs": [
    {
     "name": "stdout",
     "output_type": "stream",
     "text": [
      "I’m sorry that you feel this way. Did anything in particular trigger this feeling?                  Please provide a detailed explanation of the situation.\n"
     ]
    }
   ],
   "source": [
    "from tkinter import *\n",
    "\n",
    "BG_GRAY = \"#ABB2B9\"\n",
    "BG_COLOR = \"#17202A\"\n",
    "TEXT_COLOR = \"#EAECEE\"\n",
    "\n",
    "FONT = \"Helvetica 14\"\n",
    "FONT_BOLD = \"Helvetica 13 bold\"\n",
    "\n",
    "bot_name = \"Kai\"\n",
    "\n",
    "class ChatGUI:\n",
    "    \n",
    "    def __init__(self):\n",
    "        self.window = Tk()\n",
    "        self._setup_main_window()\n",
    "        self._insert_initial_message(\"Hello!\\\n",
    "            \\nMy name is Kai and I'm going to give you support to your self-directed CBT Therapy session.\\\n",
    "            \\nSo, how have you been feeling?\")\n",
    "        \n",
    "    def run(self):\n",
    "        self.window.mainloop()\n",
    "        \n",
    "    def _setup_main_window(self):\n",
    "        self.window.title(\"Chat\")\n",
    "        self.window.resizable(width=False, height=False)\n",
    "        self.window.configure(width=470, height=550, bg=BG_COLOR)\n",
    "        \n",
    "        # head label\n",
    "        head_label = Label(self.window, bg=BG_COLOR, fg=TEXT_COLOR,\n",
    "                           text=\"Kai\", font=FONT_BOLD, pady=10)\n",
    "        head_label.place(relwidth=1)\n",
    "        \n",
    "        # tiny divider\n",
    "        line = Label(self.window, width=450, bg=BG_GRAY)\n",
    "        line.place(relwidth=1, rely=0.07, relheight=0.012)\n",
    "        \n",
    "        # text widget\n",
    "        self.text_widget = Text(self.window, width=20, height=2, bg=BG_COLOR, fg=TEXT_COLOR,\n",
    "                                font=FONT, padx=5, pady=5)\n",
    "        self.text_widget.place(relheight=0.745, relwidth=1, rely=0.08)\n",
    "        self.text_widget.configure(cursor=\"arrow\", state=DISABLED)\n",
    "        \n",
    "        # scroll bar\n",
    "        scrollbar = Scrollbar(self.text_widget)\n",
    "        scrollbar.place(relheight=1, relx=0.974)\n",
    "        scrollbar.configure(command=self.text_widget.yview)\n",
    "        \n",
    "        # bottom label\n",
    "        bottom_label = Label(self.window, bg=BG_GRAY, height=80)\n",
    "        bottom_label.place(relwidth=1, rely=0.825)\n",
    "        \n",
    "        # message entry box\n",
    "        self.msg_entry = Entry(bottom_label, bg=\"#2C3E50\", fg=TEXT_COLOR, font=FONT)\n",
    "        self.msg_entry.place(relwidth=0.74, relheight=0.06, rely=0.008, relx=0.011)\n",
    "        self.msg_entry.focus()\n",
    "        self.msg_entry.bind(\"<Return>\", self._on_enter_pressed)\n",
    "        \n",
    "        # send button\n",
    "        send_button = Button(bottom_label, text=\"Send\", font=FONT_BOLD, width=20, bg=BG_GRAY,\n",
    "                             command=lambda: self._on_enter_pressed(None))\n",
    "        send_button.place(relx=0.77, rely=0.008, relheight=0.06, relwidth=0.22)\n",
    "    \n",
    "    def _on_enter_pressed(self, event):\n",
    "        msg = self.msg_entry.get()\n",
    "        self._insert_message(msg, \"You\")\n",
    "       \n",
    "    def _insert_message(self, msg, sender):\n",
    "        if not msg:\n",
    "            return\n",
    "        \n",
    "        self.msg_entry.delete(0, END)\n",
    "        msg1 = f\"{sender}: {msg}\\n\\n\"\n",
    "        self.text_widget.configure(state=NORMAL)\n",
    "        self.text_widget.insert(END, msg1)\n",
    "        self.text_widget.configure(state=DISABLED)\n",
    "        \n",
    "        msg2 = f\"{bot_name}: {get_response(msg)}\\n\\n\"\n",
    "        self.text_widget.configure(state=NORMAL)\n",
    "        self.text_widget.insert(END, msg2)\n",
    "        self.text_widget.configure(state=DISABLED)\n",
    "        \n",
    "        self.text_widget.see(END)\n",
    "          \n",
    "    def _insert_initial_message(self, msg):\n",
    "        self.msg_entry.delete(0, END)\n",
    "        msg1 = f\"{bot_name}: {msg}\\n\\n\"\n",
    "        self.text_widget.configure(state=NORMAL)\n",
    "        self.text_widget.insert(END, msg1)\n",
    "        self.text_widget.configure(state=DISABLED)\n",
    "     \n",
    "if __name__ == \"__main__\":\n",
    "    app = ChatGUI()\n",
    "    app.run()"
   ]
  }
 ],
 "metadata": {
  "kernelspec": {
   "display_name": "Python 3.10.x 64-bit (microsoft store)",
   "language": "python",
   "name": "python3"
  },
  "language_info": {
   "codemirror_mode": {
    "name": "ipython",
    "version": 3
   },
   "file_extension": ".py",
   "mimetype": "text/x-python",
   "name": "python",
   "nbconvert_exporter": "python",
   "pygments_lexer": "ipython3",
   "version": "3.10.9"
  },
  "orig_nbformat": 4,
  "vscode": {
   "interpreter": {
    "hash": "f8ca15d83b6fb72cece3edcf60f6aa40d2cbdeb5c60e0f188ff8c7c65828fd00"
   }
  }
 },
 "nbformat": 4,
 "nbformat_minor": 2
}
